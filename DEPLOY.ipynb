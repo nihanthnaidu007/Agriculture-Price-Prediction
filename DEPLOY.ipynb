{
 "cells": [
  {
   "cell_type": "code",
   "execution_count": 33,
   "id": "fbadad20",
   "metadata": {},
   "outputs": [],
   "source": [
    "import pandas as pd\n",
    "from sklearn.model_selection import train_test_split\n",
    "from sklearn.preprocessing import LabelEncoder\n",
    "from sklearn.linear_model import LinearRegression\n",
    "import pickle"
   ]
  },
  {
   "cell_type": "code",
   "execution_count": 34,
   "id": "1fb5fd9f",
   "metadata": {},
   "outputs": [],
   "source": [
    "# Load the data\n",
    "data = pd.read_csv(r\"C:\\Users\\sandeep\\OneDrive\\Desktop\\Internship\\Agricultural-Price-Prediction-and-Visualization-on-Android-App-master\\total.csv\")\n"
   ]
  },
  {
   "cell_type": "code",
   "execution_count": 35,
   "id": "b0b43554",
   "metadata": {},
   "outputs": [],
   "source": [
    "# Encode the categorical features\n",
    "le_state = LabelEncoder()\n",
    "le_market = LabelEncoder()\n",
    "le_commodity = LabelEncoder()"
   ]
  },
  {
   "cell_type": "code",
   "execution_count": 36,
   "id": "04a2feef",
   "metadata": {},
   "outputs": [],
   "source": [
    "data['state'] = le_state.fit_transform(data['state'])\n",
    "data['market'] = le_market.fit_transform(data['market'])\n",
    "data['commodity'] = le_commodity.fit_transform(data['commodity'])"
   ]
  },
  {
   "cell_type": "code",
   "execution_count": 37,
   "id": "4c2787cb",
   "metadata": {},
   "outputs": [],
   "source": [
    "# Split the data into training and testing sets\n",
    "X = data[['state', 'market', 'commodity']]\n",
    "y = data['modal_price']\n",
    "X_train, X_test, y_train, y_test = train_test_split(X, y, test_size=0.2, random_state=42)\n"
   ]
  },
  {
   "cell_type": "code",
   "execution_count": 38,
   "id": "e99f5bf6",
   "metadata": {},
   "outputs": [
    {
     "data": {
      "text/plain": [
       "LinearRegression()"
      ]
     },
     "execution_count": 38,
     "metadata": {},
     "output_type": "execute_result"
    }
   ],
   "source": [
    "# Train a linear regression model\n",
    "model = LinearRegression()\n",
    "model.fit(X_train, y_train)"
   ]
  },
  {
   "cell_type": "code",
   "execution_count": 39,
   "id": "a89774e1",
   "metadata": {},
   "outputs": [],
   "source": [
    "# Save the trained model\n",
    "pickle.dump(model, open('agriculture_price_prediction_model.pkl', 'wb'))\n",
    "\n",
    "# Save the label encoders\n",
    "pickle.dump(le_state, open('state_encoder.pkl', 'wb'))\n",
    "pickle.dump(le_market, open('market_encoder.pkl', 'wb'))\n",
    "pickle.dump(le_commodity, open('commodity_encoder.pkl', 'wb'))"
   ]
  },
  {
   "cell_type": "code",
   "execution_count": null,
   "id": "64aedad3",
   "metadata": {},
   "outputs": [],
   "source": []
  }
 ],
 "metadata": {
  "kernelspec": {
   "display_name": "Python 3 (ipykernel)",
   "language": "python",
   "name": "python3"
  },
  "language_info": {
   "codemirror_mode": {
    "name": "ipython",
    "version": 3
   },
   "file_extension": ".py",
   "mimetype": "text/x-python",
   "name": "python",
   "nbconvert_exporter": "python",
   "pygments_lexer": "ipython3",
   "version": "3.9.12"
  }
 },
 "nbformat": 4,
 "nbformat_minor": 5
}
